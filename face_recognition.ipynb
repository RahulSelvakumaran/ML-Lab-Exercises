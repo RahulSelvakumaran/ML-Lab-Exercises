{
  "cells": [
    {
      "cell_type": "markdown",
      "metadata": {
        "id": "view-in-github",
        "colab_type": "text"
      },
      "source": [
        "<a href=\"https://colab.research.google.com/github/Harshath13/Machine-Learning-Labs/blob/main/face_recognition.ipynb\" target=\"_parent\"><img src=\"https://colab.research.google.com/assets/colab-badge.svg\" alt=\"Open In Colab\"/></a>"
      ]
    },
    {
      "cell_type": "markdown",
      "metadata": {
        "id": "PpufwT3BNXLR"
      },
      "source": [
        "# Face recognition\n",
        "\n",
        "https://github.com/ageitgey/face_recognition"
      ]
    },
    {
      "cell_type": "code",
      "execution_count": null,
      "metadata": {
        "colab": {
          "background_save": true,
          "base_uri": "https://localhost:8080/"
        },
        "id": "YHR7-mDA6vSO",
        "outputId": "f6ef2215-336c-4ac5-9b74-8f37a95bf036"
      },
      "outputs": [
        {
          "name": "stdout",
          "output_type": "stream",
          "text": [
            "Looking in indexes: https://pypi.org/simple, https://us-python.pkg.dev/colab-wheels/public/simple/\n",
            "Collecting face_recognition\n",
            "  Downloading face_recognition-1.3.0-py2.py3-none-any.whl (15 kB)\n",
            "Requirement already satisfied: dlib>=19.7 in /usr/local/lib/python3.7/dist-packages (from face_recognition) (19.24.0)\n",
            "Collecting face-recognition-models>=0.3.0\n",
            "  Downloading face_recognition_models-0.3.0.tar.gz (100.1 MB)\n",
            "\u001b[K     |████████████████████████████████| 100.1 MB 31 kB/s \n",
            "\u001b[?25hRequirement already satisfied: numpy in /usr/local/lib/python3.7/dist-packages (from face_recognition) (1.21.6)\n",
            "Requirement already satisfied: Click>=6.0 in /usr/local/lib/python3.7/dist-packages (from face_recognition) (7.1.2)\n",
            "Requirement already satisfied: Pillow in /usr/local/lib/python3.7/dist-packages (from face_recognition) (7.1.2)\n",
            "Building wheels for collected packages: face-recognition-models\n",
            "  Building wheel for face-recognition-models (setup.py) ... \u001b[?25l\u001b[?25hdone\n",
            "  Created wheel for face-recognition-models: filename=face_recognition_models-0.3.0-py2.py3-none-any.whl size=100566186 sha256=716ba78a2f50f59e2f729d85405a18cb4222f5fe9cb5db9ea5ca6f5608cd3017\n",
            "  Stored in directory: /root/.cache/pip/wheels/d6/81/3c/884bcd5e1c120ff548d57c2ecc9ebf3281c9a6f7c0e7e7947a\n",
            "Successfully built face-recognition-models\n",
            "Installing collected packages: face-recognition-models, face-recognition\n",
            "Successfully installed face-recognition-1.3.0 face-recognition-models-0.3.0\n"
          ]
        }
      ],
      "source": [
        "!pip3 install face_recognition"
      ]
    },
    {
      "cell_type": "markdown",
      "metadata": {
        "id": "t_0rq2kzOGNs"
      },
      "source": [
        "Make known and unknown directories"
      ]
    },
    {
      "cell_type": "code",
      "execution_count": null,
      "metadata": {
        "colab": {
          "background_save": true
        },
        "id": "GPVvOAMBOFqs"
      },
      "outputs": [],
      "source": [
        "!mkdir known unknown"
      ]
    },
    {
      "cell_type": "markdown",
      "metadata": {
        "id": "xxAjnlisOJ0q"
      },
      "source": [
        "Now upload your images (left click on files, import into the right folders)\n",
        "\n",
        "* Base models in known with name as file name\n",
        "* Pictures of these people in unknown"
      ]
    },
    {
      "cell_type": "code",
      "execution_count": null,
      "metadata": {
        "colab": {
          "base_uri": "https://localhost:8080/",
          "height": 373
        },
        "id": "H6RHZ67K_Apr",
        "outputId": "e3f3c3b6-6703-456d-9714-f5ad251b0a99"
      },
      "outputs": [
        {
          "ename": "ModuleNotFoundError",
          "evalue": "ignored",
          "output_type": "error",
          "traceback": [
            "\u001b[0;31m---------------------------------------------------------------------------\u001b[0m",
            "\u001b[0;31mModuleNotFoundError\u001b[0m                       Traceback (most recent call last)",
            "\u001b[0;32m<ipython-input-1-1a7b1cb5abb8>\u001b[0m in \u001b[0;36m<module>\u001b[0;34m\u001b[0m\n\u001b[1;32m      1\u001b[0m \u001b[0;32mfrom\u001b[0m \u001b[0mPIL\u001b[0m \u001b[0;32mimport\u001b[0m \u001b[0mImage\u001b[0m\u001b[0;34m,\u001b[0m \u001b[0mImageDraw\u001b[0m\u001b[0;34m\u001b[0m\u001b[0;34m\u001b[0m\u001b[0m\n\u001b[0;32m----> 2\u001b[0;31m \u001b[0;32mimport\u001b[0m \u001b[0mface_recognition\u001b[0m\u001b[0;34m\u001b[0m\u001b[0;34m\u001b[0m\u001b[0m\n\u001b[0m\u001b[1;32m      3\u001b[0m \u001b[0;32mfrom\u001b[0m \u001b[0mmatplotlib\u001b[0m \u001b[0;32mimport\u001b[0m \u001b[0mpyplot\u001b[0m \u001b[0;32mas\u001b[0m \u001b[0mplt\u001b[0m\u001b[0;34m\u001b[0m\u001b[0;34m\u001b[0m\u001b[0m\n\u001b[1;32m      4\u001b[0m \u001b[0;32mimport\u001b[0m \u001b[0mmatplotlib\u001b[0m\u001b[0;34m.\u001b[0m\u001b[0mimage\u001b[0m \u001b[0;32mas\u001b[0m \u001b[0mmpimg\u001b[0m\u001b[0;34m\u001b[0m\u001b[0;34m\u001b[0m\u001b[0m\n\u001b[1;32m      5\u001b[0m \u001b[0;32mimport\u001b[0m \u001b[0mface_recognition\u001b[0m\u001b[0;34m\u001b[0m\u001b[0;34m\u001b[0m\u001b[0m\n",
            "\u001b[0;31mModuleNotFoundError\u001b[0m: No module named 'face_recognition'",
            "",
            "\u001b[0;31m---------------------------------------------------------------------------\u001b[0;32m\nNOTE: If your import is failing due to a missing package, you can\nmanually install dependencies using either !pip or !apt.\n\nTo view examples of installing some common dependencies, click the\n\"Open Examples\" button below.\n\u001b[0;31m---------------------------------------------------------------------------\u001b[0m\n"
          ]
        }
      ],
      "source": [
        "from PIL import Image, ImageDraw\n",
        "import face_recognition\n",
        "from matplotlib import pyplot as plt\n",
        "import matplotlib.image as mpimg\n",
        "import face_recognition"
      ]
    },
    {
      "cell_type": "code",
      "execution_count": null,
      "metadata": {
        "id": "iRmJSNkRQ5dN"
      },
      "outputs": [],
      "source": [
        "def draw_rec(url1, url2, url3):\n",
        "  # This is an example of running face recognition on a single image\n",
        "  # and drawing a box around each person that was identified.\n",
        "\n",
        "  # Load a sample picture and learn how to recognize it.\n",
        "  obama_image = face_recognition.load_image_file(url1)\n",
        "  obama_face_encoding = face_recognition.face_encodings(obama_image)[0]\n",
        "\n",
        "  # Load a second sample picture and learn how to recognize it.\n",
        "  biden_image = face_recognition.load_image_file(url2)\n",
        "  biden_face_encoding = face_recognition.face_encodings(biden_image)[0]\n",
        "\n",
        "  # Create arrays of known face encodings and their names\n",
        "  known_face_encodings = [\n",
        "      obama_face_encoding,\n",
        "      biden_face_encoding\n",
        "  ]\n",
        "  known_face_names = [\n",
        "      \"Donald Trump\",\n",
        "      \"Kim\"\n",
        "  ]\n",
        "\n",
        "  # Load an image with an unknown face\n",
        "  unknown_image = face_recognition.load_image_file(url3)\n",
        "\n",
        "  # Find all the faces and face encodings in the unknown image\n",
        "  face_locations = face_recognition.face_locations(unknown_image)\n",
        "  face_encodings = face_recognition.face_encodings(unknown_image, face_locations)\n",
        "\n",
        "  # Convert the image to a PIL-format image so that we can draw on top of it with the Pillow library\n",
        "  # See http://pillow.readthedocs.io/ for more about PIL/Pillow\n",
        "  pil_image = Image.fromarray(unknown_image)\n",
        "  # Create a Pillow ImageDraw Draw instance to draw with\n",
        "  draw = ImageDraw.Draw(pil_image)\n",
        "\n",
        "  # Loop through each face found in the unknown image\n",
        "  for (top, right, bottom, left), face_encoding in zip(face_locations, face_encodings):\n",
        "      # See if the face is a match for the known face(s)\n",
        "      matches = face_recognition.compare_faces(known_face_encodings, face_encoding)\n",
        "\n",
        "      name = \"Unknown\"\n",
        "\n",
        "      # If a match was found in known_face_encodings, just use the first one.\n",
        "      if True in matches:\n",
        "          first_match_index = matches.index(True)\n",
        "          name = known_face_names[first_match_index]\n",
        "\n",
        "      # Draw a box around the face using the Pillow module\n",
        "      draw.rectangle(((left, top), (right, bottom)), outline=(0, 0, 255))\n",
        "\n",
        "      # Draw a label with a name below the face\n",
        "      text_width, text_height = draw.textsize(name)\n",
        "      draw.rectangle(((left, bottom - text_height - 10), (right, bottom)), fill=(0, 0, 255), outline=(0, 0, 255))\n",
        "      draw.text((left + 6, bottom - text_height - 5), name, fill=(255, 255, 255, 255))\n",
        "\n",
        "\n",
        "  # Remove the drawing library from memory as per the Pillow docs\n",
        "  del draw\n",
        "\n",
        "  # Display the resulting image\n",
        "  plt.imshow(pil_image, aspect='auto')\n",
        "\n",
        "  # You can also save a copy of the new image to disk if you want by uncommenting this line\n",
        "  # pil_image.save(\"image_with_boxes.jpg\")"
      ]
    },
    {
      "cell_type": "code",
      "execution_count": null,
      "metadata": {
        "id": "0H57ARjlSa97"
      },
      "outputs": [],
      "source": [
        "plt.imshow(Image.fromarray(face_recognition.load_image_file(\"/content/unknown/obama-240p.jpg\")), aspect='auto')"
      ]
    },
    {
      "cell_type": "code",
      "execution_count": null,
      "metadata": {
        "id": "Cxkd9rtKR4Gv"
      },
      "outputs": [],
      "source": [
        "draw_rec(\"/content/known/biden.jpg\", \"/content/known/obama-240p.jpg\", \"/content/unknown/obama-240p.jpg\")"
      ]
    }
  ],
  "metadata": {
    "accelerator": "GPU",
    "colab": {
      "collapsed_sections": [],
      "provenance": [],
      "include_colab_link": true
    },
    "kernelspec": {
      "display_name": "Python 3",
      "name": "python3"
    }
  },
  "nbformat": 4,
  "nbformat_minor": 0
}